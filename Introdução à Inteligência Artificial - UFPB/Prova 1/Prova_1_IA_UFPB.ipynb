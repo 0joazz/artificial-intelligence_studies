{
  "nbformat": 4,
  "nbformat_minor": 0,
  "metadata": {
    "colab": {
      "name": "Prova 1 - IA-UFPB.ipynb",
      "provenance": [],
      "authorship_tag": "ABX9TyODreUiJ42D/y7Yv4esyLfA",
      "include_colab_link": true
    },
    "kernelspec": {
      "name": "python3",
      "display_name": "Python 3"
    },
    "language_info": {
      "name": "python"
    }
  },
  "cells": [
    {
      "cell_type": "markdown",
      "metadata": {
        "id": "view-in-github",
        "colab_type": "text"
      },
      "source": [
        "<a href=\"https://colab.research.google.com/github/J0AZZ/artificial-intelligence_studies/blob/master/Introdu%C3%A7%C3%A3o%20%C3%A0%20Intelig%C3%AAncia%20Artificial%20-%20UFPB/Prova%201/Prova_1_IA_UFPB.ipynb\" target=\"_parent\"><img src=\"https://colab.research.google.com/assets/colab-badge.svg\" alt=\"Open In Colab\"/></a>"
      ]
    },
    {
      "cell_type": "markdown",
      "metadata": {
        "id": "3p3lad0l0Uaq"
      },
      "source": [
        "# Prova 1: Introdução à Inteligência Artificial\n",
        "\n",
        "## Joás de Brito Ferreira Filho (`github.com/j0azz`)\n",
        "\n",
        "## Estatística - CCEN"
      ]
    },
    {
      "cell_type": "code",
      "metadata": {
        "id": "b8qoiqSPxGWW"
      },
      "source": [
        "from sklearn.neighbors import KNeighborsClassifier\n",
        "import pandas as pd"
      ],
      "execution_count": null,
      "outputs": []
    },
    {
      "cell_type": "markdown",
      "metadata": {
        "id": "YTMaMWt3uYoK"
      },
      "source": [
        "# (1)\n",
        "\n",
        " O ambiente é a malha de pontos turísticos que é abrangida pelo agente. Os atuadores seriam os displays com as listas de cada ponto, exibidas ao usuário de maneira visualmente agradável e intuitiva. Os sensores seriam as câmeras e/ou GPS. As medidas de desempenho do referido sistema seriam baseadas (do ponto de vista computacional) na velocidade de exibição das informações a partir do momento de solicitação do usuário, na capacidade do sistema de entregar a informação correta, (do ponto de vista infraestrutural) na relação viabilidade vs alcance e na receptividade do usuário.\n",
        "\n",
        "Exemplos de entrada:\n",
        "* QR Code     (posicionados em cada ponto)\n",
        "* Wireless    (com o endereço cadastrado na base)\n",
        "* Localização (consulta à base via GPS)\n",
        "* Teclado     (consulta do usuário por chave ou identificador público)\n",
        "* Voz         (identificador do ponto turístico)\n",
        "\n",
        "Exemplos de saída:\n",
        "* Informações do ponto turístico\n",
        "* Áudio em formato narrativo\n",
        "* Áudio em formato de perguntas e respostas\n",
        "* Instância de Realidade Aumentada \n",
        "* Informação histórica (o que este lugar já foi?)\n",
        "\n",
        "O banco de dados seria construído do zero, pelos próprios usuários, à medida que o uso se dispersasse. Os registros obtidos seriam avaliados por uma equipe responsável e (certificadas ou não) seriam disponibilizadas aos usuários. "
      ]
    },
    {
      "cell_type": "markdown",
      "metadata": {
        "id": "e9RYZrMd2m42"
      },
      "source": [
        "# (2) \n",
        "\n",
        "Classificação: https://www.kaggle.com/brsdincer/star-type-classification \n",
        "\n",
        "Regressão:     https://www.kaggle.com/jacksoncrow/stock-market-dataset\n",
        "\n",
        "Ambos:         https://www.kaggle.com/vatsalmavani/music-recommendation-system-using-spotify-dataset"
      ]
    },
    {
      "cell_type": "markdown",
      "metadata": {
        "id": "S4bISU7x515b"
      },
      "source": [
        "# (3)\n",
        "\n",
        "Supervisionado: https://www.kaggle.com/krpurba/fakeauthentic-user-instagram\n",
        "\n",
        "Não-Supervisionado: https://www.kaggle.com/mlg-ulb/creditcardfraud\n",
        "\n",
        "Ambos: https://www.kaggle.com/imsparsh/musicnet-dataset"
      ]
    },
    {
      "cell_type": "code",
      "metadata": {
        "id": "oWGEh_yvuOgK"
      },
      "source": [
        "# (4) KNN aplicado ao dataset da questão 2\n",
        " \n",
        "# data acquisition\n",
        "df = pd.read_csv(\"https://raw.githubusercontent.com/J0AZZ/artificial-intelligence_studies/master/artificial-intelligence_studies/introducao-ia-UFPB/Prova%201/Stars.csv\")\n",
        "df.info()\n",
        "print(\"\\n\\n\")\n",
        "\n",
        "# approaching categorical variables\n",
        "color_cat = pd.get_dummies(df[\"Color\"])\n",
        "spect_cat = pd.get_dummies(df[\"Spectral_Class\"])\n",
        "X = df[[\"Temperature\", \"L\", \"R\", \"A_M\"]]\n",
        "y = df[\"Type\"]\n",
        "X_normalized = (X-X.mean())/X.std()\n",
        "x = pd.concat(objs=[color_cat, spect_cat, X_normalized], axis=1)\n",
        "\n",
        "# splitting training and validation sets\n",
        "X_test, X_train = x.iloc[200:], x.iloc[:200] \n",
        "y_test, y_train = y.iloc[200:], y.iloc[:200]\n",
        "\n",
        "# model building with two different metrics and 5 values of k\n",
        "for metric in [\"manhattan\", \"euclidean\"]:\n",
        "  print(\"\\n\\nDistance Metric: \", metric, \"\\n\")\n",
        "  print(\"--------------------\")\n",
        "  for k in range(1,6):\n",
        "    knn = KNeighborsClassifier(n_neighbors=k, metric=metric)\n",
        "    knn.fit(X_train, y_train)\n",
        "    print(sk.metrics.classification_report(y_test, knn.predict(X_test)))\n",
        "    print(\"\\nk=\", k, \" Accuracy: \", knn.score(X_test, y_test)*100, \"%\")\n",
        "    print(\"Confusion Matrix:\\n\", sk.metrics.confusion_matrix(y_test, knn.predict(X_test)))\n",
        "  "
      ],
      "execution_count": null,
      "outputs": []
    },
    {
      "cell_type": "code",
      "metadata": {
        "colab": {
          "base_uri": "https://localhost:8080/"
        },
        "id": "gUCP6FqSnuY1",
        "outputId": "883e279c-b5a1-4645-862d-2dc337da0283"
      },
      "source": [
        "# (4) KNN aplicado ao dataset da questão 3\n",
        "\n",
        "# data acquisition\n",
        "df = pd.read_csv(\"https://raw.githubusercontent.com/J0AZZ/artificial-intelligence_studies/master/Introdu%C3%A7%C3%A3o%20%C3%A0%20Intelig%C3%AAncia%20Artificial-UFPB/Prova%201/user_fake_authentic_2class.csv\")\n",
        "df.info()\n",
        "df.describe()\n",
        "\n",
        "# input and target attribution\n",
        "y = df.iloc[:,17]\n",
        "x = df.iloc[:,:17]\n",
        "\n",
        "# data normalization\n",
        "normalized_x = pd.DataFrame(sk.preprocessing.normalize(x))\n",
        "\n",
        "# training and validation splitting\n",
        "x_train, x_test = normalized_x.iloc[:50000, :], normalized_x.iloc[50000:, :]\n",
        "y_train, y_test = y.iloc[:50000], y.iloc[50000:]\n",
        "\n",
        "# model building with two different metrics and 5 values of k\n",
        "for metric in [\"manhattan\", \"euclidean\"]:\n",
        "  print(\"\\nUsing metric \", metric)\n",
        "  for k in range(1,6):\n",
        "    knn = KNeighborsClassifier(n_neighbors=k, metric=metric, weights='distance')\n",
        "    knn.fit(x_train, y_train)\n",
        "    print(\"Accuracy: \", knn.score(x_test, y_test)*100, \"%\")\n"
      ],
      "execution_count": 196,
      "outputs": [
        {
          "output_type": "stream",
          "text": [
            "<class 'pandas.core.frame.DataFrame'>\n",
            "RangeIndex: 65326 entries, 0 to 65325\n",
            "Data columns (total 18 columns):\n",
            " #   Column  Non-Null Count  Dtype  \n",
            "---  ------  --------------  -----  \n",
            " 0   pos     65326 non-null  int64  \n",
            " 1   flw     65326 non-null  int64  \n",
            " 2   flg     65326 non-null  int64  \n",
            " 3   bl      65326 non-null  int64  \n",
            " 4   pic     65326 non-null  int64  \n",
            " 5   lin     65326 non-null  int64  \n",
            " 6   cl      65326 non-null  int64  \n",
            " 7   cz      65326 non-null  float64\n",
            " 8   ni      65326 non-null  float64\n",
            " 9   erl     65326 non-null  float64\n",
            " 10  erc     65326 non-null  float64\n",
            " 11  lt      65326 non-null  float64\n",
            " 12  hc      65326 non-null  float64\n",
            " 13  pr      65326 non-null  float64\n",
            " 14  fo      65326 non-null  float64\n",
            " 15  cs      65326 non-null  float64\n",
            " 16  pi      65326 non-null  float64\n",
            " 17  class   65326 non-null  object \n",
            "dtypes: float64(10), int64(7), object(1)\n",
            "memory usage: 9.0+ MB\n",
            "\n",
            "Using metric  manhattan\n",
            "Accuracy:  60.87041628604985 %\n",
            "Accuracy:  60.87041628604985 %\n",
            "Accuracy:  62.50163121492888 %\n",
            "Accuracy:  62.69737700639436 %\n",
            "Accuracy:  62.98447083387707 %\n",
            "\n",
            "Using metric  euclidean\n",
            "Accuracy:  60.73991909173952 %\n",
            "Accuracy:  60.73991909173952 %\n",
            "Accuracy:  62.364609160903036 %\n",
            "Accuracy:  62.5929792509461 %\n",
            "Accuracy:  63.304188959937356 %\n"
          ],
          "name": "stdout"
        }
      ]
    },
    {
      "cell_type": "markdown",
      "metadata": {
        "id": "_m5fjC9_uaG-"
      },
      "source": [
        "# (5) \n",
        "\n",
        "O processo de feature engineering não foi necessário, visto que os datasets foram encontrados em bom estado e com atributos muito particulares que representam fatores independentes entre si. Um processo mais cauteloso de análise social sobre o dataset de perfis falsos parece ser necessário para determinar se uma engenharia de atributos pode nos levar a um modelo mais acurado."
      ]
    },
    {
      "cell_type": "markdown",
      "metadata": {
        "id": "ZJW8Be1Tvoxq"
      },
      "source": [
        "# (6)\n",
        "\n",
        "Foi necessário tratar variáveis categóricas de forma que fosse possível representar aqueles atributos como números. Para este fim, utilizou-se a técnica `de one-hot encoding`, implementada pelo módulo `pandas`. Também foi aplicado, em ambos os problemas, o processo de normalização, visto que os dados tornam-se mais manipuláveis pelo algoritmo de K Vizinhos mais Próximos."
      ]
    },
    {
      "cell_type": "markdown",
      "metadata": {
        "id": "QkO_bTBnwBur"
      },
      "source": [
        "# (7) \n",
        "Visto o desempenho dos sistemas inteligentes contemporâneos e todas as questões de preconceito levantadas, como um cientista de dados pode produzir modelos éticos perante uma sociedade moralmente defeituosa?\n",
        "\n",
        "`Resposta`: o primeiro elemento para o qual se deve prestar atenção são os dados à disposição. A partir daí deve-se pensar na aplicabilidade destes dados levando em conta o impacto social da aplicação implementada. Avaliar a qualidade de um banco de dados já não se restringe a verificar a integridade de terabytes de informação, extende-se também a avaliar o potencial que uma aplicação enviesada pode ter no mundo real; dados podem ou não ser aprovados no critério de qualidade do cientista, mas a possibilidade de uso destes dados é real e deve ser ponderada para além do contexto infraestrutural."
      ]
    }
  ]
}