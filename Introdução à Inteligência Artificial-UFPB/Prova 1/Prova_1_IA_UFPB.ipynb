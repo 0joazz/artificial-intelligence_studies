{
  "nbformat": 4,
  "nbformat_minor": 0,
  "metadata": {
    "colab": {
      "name": "Prova 1 - IA-UFPB.ipynb",
      "provenance": [],
      "authorship_tag": "ABX9TyOVD0vTFuiIUC7rXg6qJlrG",
      "include_colab_link": true
    },
    "kernelspec": {
      "name": "python3",
      "display_name": "Python 3"
    },
    "language_info": {
      "name": "python"
    }
  },
  "cells": [
    {
      "cell_type": "markdown",
      "metadata": {
        "id": "view-in-github",
        "colab_type": "text"
      },
      "source": [
        "<a href=\"https://colab.research.google.com/github/J0AZZ/artificial-intelligence_studies/blob/master/Introdu%C3%A7%C3%A3o%20%C3%A0%20Intelig%C3%AAncia%20Artificial-UFPB/Prova%201/Prova_1_IA_UFPB.ipynb\" target=\"_parent\"><img src=\"https://colab.research.google.com/assets/colab-badge.svg\" alt=\"Open In Colab\"/></a>"
      ]
    },
    {
      "cell_type": "code",
      "metadata": {
        "id": "b8qoiqSPxGWW"
      },
      "source": [
        "from sklearn.neighbors import KNeighborsClassifier\n",
        "import pandas as pd"
      ],
      "execution_count": 11,
      "outputs": []
    },
    {
      "cell_type": "markdown",
      "metadata": {
        "id": "YTMaMWt3uYoK"
      },
      "source": [
        "(1)\n",
        "\n",
        " O ambiente é a malha de pontos turísticos que é abrangida pelo agente. Os atuadores seriam os displays com as listas de cada ponto, exibidas ao usuário de maneira visualmente agradável e intuitiva. Os sensores seriam as câmeras e/ou GPS. As medidas de desempenho do referido sistema seriam baseadas (do ponto de vista computacional) na velocidade de exibição das informações a partir do momento de solicitação do usuário, na capacidade do sistema de entregar a informação correta, (do ponto de vista infraestrutural) na relação viabilidade vs alcance e na receptividade do usuário.\n",
        "\n",
        "Exemplos de entrada:\n",
        "* QR Code     (posicionados em cada ponto)\n",
        "* Wireless    (com o endereço cadastrado na base)\n",
        "* Localização (consulta à base via GPS)\n",
        "* Teclado     (consulta do usuário por chave ou identificador público)\n",
        "* Voz         (identificador do ponto turístico)\n",
        "\n",
        "Exemplos de saída:\n",
        "* Informações do ponto turístico\n",
        "* Áudio em formato narrativo\n",
        "* Áudio em formato de perguntas e respostas\n",
        "* Instância de Realidade Aumentada \n",
        "* Informação histórica (o que este lugar já foi?)\n",
        "\n",
        "O banco de dados seria construído do zero, pelos próprios usuários, à medida que o uso se dispersasse. Os registros obtidos seriam avaliados por uma equipe responsável e (certificadas ou não) seriam disponibilizadas aos usuários. "
      ]
    },
    {
      "cell_type": "markdown",
      "metadata": {
        "id": "e9RYZrMd2m42"
      },
      "source": [
        "(2) \n",
        "\n",
        "Classificação: https://www.kaggle.com/brsdincer/star-type-classification \n",
        "\n",
        "Regressão:     https://www.kaggle.com/jacksoncrow/stock-market-dataset\n",
        "\n",
        "Ambos:         https://www.kaggle.com/vatsalmavani/music-recommendation-system-using-spotify-dataset"
      ]
    },
    {
      "cell_type": "markdown",
      "metadata": {
        "id": "S4bISU7x515b"
      },
      "source": [
        "(3)\n",
        "\n",
        "Supervisionado: https://www.kaggle.com/krpurba/fakeauthentic-user-instagram\n",
        "\n",
        "Não-Supervisionado: https://www.kaggle.com/mlg-ulb/creditcardfraud\n",
        "\n",
        "Ambos: https://www.kaggle.com/imsparsh/musicnet-dataset"
      ]
    },
    {
      "cell_type": "code",
      "metadata": {
        "id": "oWGEh_yvuOgK"
      },
      "source": [
        "# (4) KNN aplicado ao dataset da questão 2\n",
        " \n",
        "# data acquisition\n",
        "df = pd.read_csv(\"https://raw.githubusercontent.com/J0AZZ/artificial-intelligence_studies/master/artificial-intelligence_studies/introducao-ia-UFPB/Prova%201/Stars.csv\")\n",
        "df.info()\n",
        "print(\"\\n\\n\")\n",
        "\n",
        "# approaching categorical variables\n",
        "color_cat = pd.get_dummies(df[\"Color\"])\n",
        "spect_cat = pd.get_dummies(df[\"Spectral_Class\"])\n",
        "X = df[[\"Temperature\", \"L\", \"R\", \"A_M\"]]\n",
        "y = df[\"Type\"]\n",
        "X_normalized = (X-X.mean())/X.std()\n",
        "x = pd.concat(objs=[color_cat, spect_cat, X_normalized], axis=1)\n",
        "\n",
        "# splitting training and validation sets\n",
        "X_test, X_train = x.iloc[200:], x.iloc[:200] \n",
        "y_test, y_train = y.iloc[200:], y.iloc[:200]\n",
        "\n",
        "# building the model\n",
        "for metric in [\"manhattan\", \"euclidean\"]:\n",
        "  print(\"\\n\\nDistance Metric: \", metric, \"\\n\")\n",
        "  print(\"--------------------\")\n",
        "  for k in range(1,6):\n",
        "    knn = KNeighborsClassifier(n_neighbors=k, metric=metric)\n",
        "    knn.fit(X_train, y_train)\n",
        "    print(sk.metrics.classification_report(y_test, knn.predict(X_test)))\n",
        "    print(\"\\nk=\", k, \" Accuracy: \", knn.score(X_test, y_test)*100, \"%\")\n",
        "    print(\"Confusion Matrix:\\n\", sk.metrics.confusion_matrix(y_test, knn.predict(X_test)))\n",
        "  "
      ],
      "execution_count": null,
      "outputs": []
    },
    {
      "cell_type": "code",
      "metadata": {
        "id": "qT32uh4Q3GRD"
      },
      "source": [
        "# (4) KNN aplicado ao dataset da questão 3\n"
      ],
      "execution_count": null,
      "outputs": []
    }
  ]
}